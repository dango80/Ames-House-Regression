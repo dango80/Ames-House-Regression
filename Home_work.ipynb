{
  "nbformat": 4,
  "nbformat_minor": 0,
  "metadata": {
    "colab": {
      "name": "Home_work.ipynb",
      "provenance": [],
      "mount_file_id": "1uyVY-1N63KmQ_O5Tywca87SZndXIuLpu",
      "authorship_tag": "ABX9TyNAahvcvLNwtw5BI1WZqpRP",
      "include_colab_link": true
    },
    "kernelspec": {
      "name": "python3",
      "display_name": "Python 3"
    },
    "language_info": {
      "name": "python"
    }
  },
  "cells": [
    {
      "cell_type": "markdown",
      "metadata": {
        "id": "view-in-github",
        "colab_type": "text"
      },
      "source": [
        "<a href=\"https://colab.research.google.com/github/dango80/Ames-House-Regression/blob/main/Home_work.ipynb\" target=\"_parent\"><img src=\"https://colab.research.google.com/assets/colab-badge.svg\" alt=\"Open In Colab\"/></a>"
      ]
    },
    {
      "cell_type": "code",
      "metadata": {
        "id": "B_L_cHwEEDJS"
      },
      "source": [
        "#First of all import the necessary libraries to continue the job\n",
        "import pandas as pd\n",
        "import numpy as np\n",
        "import seaborn as sns\n",
        "import matplotlib.pyplot as plt\n",
        "%matplotlib inline"
      ],
      "execution_count": 1,
      "outputs": []
    },
    {
      "cell_type": "markdown",
      "metadata": {
        "id": "mKZAkY1WE0Qr"
      },
      "source": [
        "Exercise 1:\n",
        "This coding exercise should be performed in python or R. You are free to use the internet and any other libraries. Please save your work in a Jupyter notebook or share a colab page and email it to us for review."
      ]
    },
    {
      "cell_type": "markdown",
      "metadata": {
        "id": "c3VZ0QoBE4BC"
      },
      "source": [
        "Objective: Build a regressor that recommends the “crew” size for potential ship buyers.\n",
        "\n",
        "Please do the following steps (hint: use numpy, scipy, pandas, sklearn and matplotlib)\n",
        "\n",
        "Read the file and display columns.\n",
        "Calculate basic statistics of the data (count, mean, std, etc) and examine data and state your observations.\n",
        "Select columns that will be probably important to predict “crew” size.\n",
        "If you removed columns explain why you removed those.\n",
        "Use one-hot encoding for categorical features.\n",
        "Create training and testing sets.\n",
        "Build a machine learning model to predict the ‘crew’ size.\n",
        "Calculate the Pearson correlation coefficient for the training set and testing data sets.\n",
        "Describe hyper-parameters in your model and how you would change them to improve the performance of the model.\n",
        "What is regularization? What is the regularization parameter in your model?\n",
        "Plot regularization parameter value vs Pearson correlation for the test and training sets, and see whether your model has bias problem or variance problem."
      ]
    },
    {
      "cell_type": "code",
      "metadata": {
        "id": "njqVKckaExR4"
      },
      "source": [
        "#I'm reading the dataset ... We have 158 rows and 9 columns\n",
        "data=pd.read_csv(\"/content/drive/MyDrive/home_work.csv\")\n",
        "                 "
      ],
      "execution_count": 4,
      "outputs": []
    },
    {
      "cell_type": "code",
      "metadata": {
        "colab": {
          "base_uri": "https://localhost:8080/",
          "height": 437
        },
        "id": "K9sMlz1GE7Gm",
        "outputId": "d64cc787-73cf-47f4-8909-d596f98132ab"
      },
      "source": [
        "#... and visualize it\n",
        "data"
      ],
      "execution_count": 5,
      "outputs": [
        {
          "output_type": "execute_result",
          "data": {
            "text/html": [
              "<div>\n",
              "<style scoped>\n",
              "    .dataframe tbody tr th:only-of-type {\n",
              "        vertical-align: middle;\n",
              "    }\n",
              "\n",
              "    .dataframe tbody tr th {\n",
              "        vertical-align: top;\n",
              "    }\n",
              "\n",
              "    .dataframe thead th {\n",
              "        text-align: right;\n",
              "    }\n",
              "</style>\n",
              "<table border=\"1\" class=\"dataframe\">\n",
              "  <thead>\n",
              "    <tr style=\"text-align: right;\">\n",
              "      <th></th>\n",
              "      <th>Ship_name</th>\n",
              "      <th>Cruise_line</th>\n",
              "      <th>Age</th>\n",
              "      <th>Tonnage</th>\n",
              "      <th>passengers</th>\n",
              "      <th>length</th>\n",
              "      <th>cabins</th>\n",
              "      <th>passenger_density</th>\n",
              "      <th>crew</th>\n",
              "    </tr>\n",
              "  </thead>\n",
              "  <tbody>\n",
              "    <tr>\n",
              "      <th>0</th>\n",
              "      <td>Journey</td>\n",
              "      <td>Azamara</td>\n",
              "      <td>6</td>\n",
              "      <td>30.277</td>\n",
              "      <td>6.94</td>\n",
              "      <td>5.94</td>\n",
              "      <td>3.55</td>\n",
              "      <td>42.64</td>\n",
              "      <td>3.55</td>\n",
              "    </tr>\n",
              "    <tr>\n",
              "      <th>1</th>\n",
              "      <td>Quest</td>\n",
              "      <td>Azamara</td>\n",
              "      <td>6</td>\n",
              "      <td>30.277</td>\n",
              "      <td>6.94</td>\n",
              "      <td>5.94</td>\n",
              "      <td>3.55</td>\n",
              "      <td>42.64</td>\n",
              "      <td>3.55</td>\n",
              "    </tr>\n",
              "    <tr>\n",
              "      <th>2</th>\n",
              "      <td>Celebration</td>\n",
              "      <td>Carnival</td>\n",
              "      <td>26</td>\n",
              "      <td>47.262</td>\n",
              "      <td>14.86</td>\n",
              "      <td>7.22</td>\n",
              "      <td>7.43</td>\n",
              "      <td>31.80</td>\n",
              "      <td>6.70</td>\n",
              "    </tr>\n",
              "    <tr>\n",
              "      <th>3</th>\n",
              "      <td>Conquest</td>\n",
              "      <td>Carnival</td>\n",
              "      <td>11</td>\n",
              "      <td>110.000</td>\n",
              "      <td>29.74</td>\n",
              "      <td>9.53</td>\n",
              "      <td>14.88</td>\n",
              "      <td>36.99</td>\n",
              "      <td>19.10</td>\n",
              "    </tr>\n",
              "    <tr>\n",
              "      <th>4</th>\n",
              "      <td>Destiny</td>\n",
              "      <td>Carnival</td>\n",
              "      <td>17</td>\n",
              "      <td>101.353</td>\n",
              "      <td>26.42</td>\n",
              "      <td>8.92</td>\n",
              "      <td>13.21</td>\n",
              "      <td>38.36</td>\n",
              "      <td>10.00</td>\n",
              "    </tr>\n",
              "    <tr>\n",
              "      <th>...</th>\n",
              "      <td>...</td>\n",
              "      <td>...</td>\n",
              "      <td>...</td>\n",
              "      <td>...</td>\n",
              "      <td>...</td>\n",
              "      <td>...</td>\n",
              "      <td>...</td>\n",
              "      <td>...</td>\n",
              "      <td>...</td>\n",
              "    </tr>\n",
              "    <tr>\n",
              "      <th>153</th>\n",
              "      <td>Taurus</td>\n",
              "      <td>Star</td>\n",
              "      <td>22</td>\n",
              "      <td>3.341</td>\n",
              "      <td>0.66</td>\n",
              "      <td>2.79</td>\n",
              "      <td>0.33</td>\n",
              "      <td>50.62</td>\n",
              "      <td>0.59</td>\n",
              "    </tr>\n",
              "    <tr>\n",
              "      <th>154</th>\n",
              "      <td>Virgo</td>\n",
              "      <td>Star</td>\n",
              "      <td>14</td>\n",
              "      <td>76.800</td>\n",
              "      <td>19.60</td>\n",
              "      <td>8.79</td>\n",
              "      <td>9.67</td>\n",
              "      <td>39.18</td>\n",
              "      <td>12.00</td>\n",
              "    </tr>\n",
              "    <tr>\n",
              "      <th>155</th>\n",
              "      <td>Spirit</td>\n",
              "      <td>Windstar</td>\n",
              "      <td>25</td>\n",
              "      <td>5.350</td>\n",
              "      <td>1.58</td>\n",
              "      <td>4.40</td>\n",
              "      <td>0.74</td>\n",
              "      <td>33.86</td>\n",
              "      <td>0.88</td>\n",
              "    </tr>\n",
              "    <tr>\n",
              "      <th>156</th>\n",
              "      <td>Star</td>\n",
              "      <td>Windstar</td>\n",
              "      <td>27</td>\n",
              "      <td>5.350</td>\n",
              "      <td>1.67</td>\n",
              "      <td>4.40</td>\n",
              "      <td>0.74</td>\n",
              "      <td>32.04</td>\n",
              "      <td>0.88</td>\n",
              "    </tr>\n",
              "    <tr>\n",
              "      <th>157</th>\n",
              "      <td>Surf</td>\n",
              "      <td>Windstar</td>\n",
              "      <td>23</td>\n",
              "      <td>14.745</td>\n",
              "      <td>3.08</td>\n",
              "      <td>6.17</td>\n",
              "      <td>1.56</td>\n",
              "      <td>47.87</td>\n",
              "      <td>1.80</td>\n",
              "    </tr>\n",
              "  </tbody>\n",
              "</table>\n",
              "<p>158 rows × 9 columns</p>\n",
              "</div>"
            ],
            "text/plain": [
              "       Ship_name Cruise_line  Age  ...  cabins  passenger_density   crew\n",
              "0        Journey     Azamara    6  ...    3.55              42.64   3.55\n",
              "1          Quest     Azamara    6  ...    3.55              42.64   3.55\n",
              "2    Celebration    Carnival   26  ...    7.43              31.80   6.70\n",
              "3       Conquest    Carnival   11  ...   14.88              36.99  19.10\n",
              "4        Destiny    Carnival   17  ...   13.21              38.36  10.00\n",
              "..           ...         ...  ...  ...     ...                ...    ...\n",
              "153       Taurus        Star   22  ...    0.33              50.62   0.59\n",
              "154        Virgo        Star   14  ...    9.67              39.18  12.00\n",
              "155       Spirit    Windstar   25  ...    0.74              33.86   0.88\n",
              "156         Star    Windstar   27  ...    0.74              32.04   0.88\n",
              "157         Surf    Windstar   23  ...    1.56              47.87   1.80\n",
              "\n",
              "[158 rows x 9 columns]"
            ]
          },
          "metadata": {
            "tags": []
          },
          "execution_count": 5
        }
      ]
    },
    {
      "cell_type": "code",
      "metadata": {
        "colab": {
          "base_uri": "https://localhost:8080/",
          "height": 377
        },
        "id": "YpNEwLJ4FMJG",
        "outputId": "f6bfd1c4-db72-4a5a-b789-c75c0b731927"
      },
      "source": [
        "#Let's see the first 10 rows\n",
        "data.head(10)"
      ],
      "execution_count": 6,
      "outputs": [
        {
          "output_type": "execute_result",
          "data": {
            "text/html": [
              "<div>\n",
              "<style scoped>\n",
              "    .dataframe tbody tr th:only-of-type {\n",
              "        vertical-align: middle;\n",
              "    }\n",
              "\n",
              "    .dataframe tbody tr th {\n",
              "        vertical-align: top;\n",
              "    }\n",
              "\n",
              "    .dataframe thead th {\n",
              "        text-align: right;\n",
              "    }\n",
              "</style>\n",
              "<table border=\"1\" class=\"dataframe\">\n",
              "  <thead>\n",
              "    <tr style=\"text-align: right;\">\n",
              "      <th></th>\n",
              "      <th>Ship_name</th>\n",
              "      <th>Cruise_line</th>\n",
              "      <th>Age</th>\n",
              "      <th>Tonnage</th>\n",
              "      <th>passengers</th>\n",
              "      <th>length</th>\n",
              "      <th>cabins</th>\n",
              "      <th>passenger_density</th>\n",
              "      <th>crew</th>\n",
              "    </tr>\n",
              "  </thead>\n",
              "  <tbody>\n",
              "    <tr>\n",
              "      <th>0</th>\n",
              "      <td>Journey</td>\n",
              "      <td>Azamara</td>\n",
              "      <td>6</td>\n",
              "      <td>30.277</td>\n",
              "      <td>6.94</td>\n",
              "      <td>5.94</td>\n",
              "      <td>3.55</td>\n",
              "      <td>42.64</td>\n",
              "      <td>3.55</td>\n",
              "    </tr>\n",
              "    <tr>\n",
              "      <th>1</th>\n",
              "      <td>Quest</td>\n",
              "      <td>Azamara</td>\n",
              "      <td>6</td>\n",
              "      <td>30.277</td>\n",
              "      <td>6.94</td>\n",
              "      <td>5.94</td>\n",
              "      <td>3.55</td>\n",
              "      <td>42.64</td>\n",
              "      <td>3.55</td>\n",
              "    </tr>\n",
              "    <tr>\n",
              "      <th>2</th>\n",
              "      <td>Celebration</td>\n",
              "      <td>Carnival</td>\n",
              "      <td>26</td>\n",
              "      <td>47.262</td>\n",
              "      <td>14.86</td>\n",
              "      <td>7.22</td>\n",
              "      <td>7.43</td>\n",
              "      <td>31.80</td>\n",
              "      <td>6.70</td>\n",
              "    </tr>\n",
              "    <tr>\n",
              "      <th>3</th>\n",
              "      <td>Conquest</td>\n",
              "      <td>Carnival</td>\n",
              "      <td>11</td>\n",
              "      <td>110.000</td>\n",
              "      <td>29.74</td>\n",
              "      <td>9.53</td>\n",
              "      <td>14.88</td>\n",
              "      <td>36.99</td>\n",
              "      <td>19.10</td>\n",
              "    </tr>\n",
              "    <tr>\n",
              "      <th>4</th>\n",
              "      <td>Destiny</td>\n",
              "      <td>Carnival</td>\n",
              "      <td>17</td>\n",
              "      <td>101.353</td>\n",
              "      <td>26.42</td>\n",
              "      <td>8.92</td>\n",
              "      <td>13.21</td>\n",
              "      <td>38.36</td>\n",
              "      <td>10.00</td>\n",
              "    </tr>\n",
              "    <tr>\n",
              "      <th>5</th>\n",
              "      <td>Ecstasy</td>\n",
              "      <td>Carnival</td>\n",
              "      <td>22</td>\n",
              "      <td>70.367</td>\n",
              "      <td>20.52</td>\n",
              "      <td>8.55</td>\n",
              "      <td>10.20</td>\n",
              "      <td>34.29</td>\n",
              "      <td>9.20</td>\n",
              "    </tr>\n",
              "    <tr>\n",
              "      <th>6</th>\n",
              "      <td>Elation</td>\n",
              "      <td>Carnival</td>\n",
              "      <td>15</td>\n",
              "      <td>70.367</td>\n",
              "      <td>20.52</td>\n",
              "      <td>8.55</td>\n",
              "      <td>10.20</td>\n",
              "      <td>34.29</td>\n",
              "      <td>9.20</td>\n",
              "    </tr>\n",
              "    <tr>\n",
              "      <th>7</th>\n",
              "      <td>Fantasy</td>\n",
              "      <td>Carnival</td>\n",
              "      <td>23</td>\n",
              "      <td>70.367</td>\n",
              "      <td>20.56</td>\n",
              "      <td>8.55</td>\n",
              "      <td>10.22</td>\n",
              "      <td>34.23</td>\n",
              "      <td>9.20</td>\n",
              "    </tr>\n",
              "    <tr>\n",
              "      <th>8</th>\n",
              "      <td>Fascination</td>\n",
              "      <td>Carnival</td>\n",
              "      <td>19</td>\n",
              "      <td>70.367</td>\n",
              "      <td>20.52</td>\n",
              "      <td>8.55</td>\n",
              "      <td>10.20</td>\n",
              "      <td>34.29</td>\n",
              "      <td>9.20</td>\n",
              "    </tr>\n",
              "    <tr>\n",
              "      <th>9</th>\n",
              "      <td>Freedom</td>\n",
              "      <td>Carnival</td>\n",
              "      <td>6</td>\n",
              "      <td>110.239</td>\n",
              "      <td>37.00</td>\n",
              "      <td>9.51</td>\n",
              "      <td>14.87</td>\n",
              "      <td>29.79</td>\n",
              "      <td>11.50</td>\n",
              "    </tr>\n",
              "  </tbody>\n",
              "</table>\n",
              "</div>"
            ],
            "text/plain": [
              "     Ship_name Cruise_line  Age  ...  cabins  passenger_density   crew\n",
              "0      Journey     Azamara    6  ...    3.55              42.64   3.55\n",
              "1        Quest     Azamara    6  ...    3.55              42.64   3.55\n",
              "2  Celebration    Carnival   26  ...    7.43              31.80   6.70\n",
              "3     Conquest    Carnival   11  ...   14.88              36.99  19.10\n",
              "4      Destiny    Carnival   17  ...   13.21              38.36  10.00\n",
              "5      Ecstasy    Carnival   22  ...   10.20              34.29   9.20\n",
              "6      Elation    Carnival   15  ...   10.20              34.29   9.20\n",
              "7      Fantasy    Carnival   23  ...   10.22              34.23   9.20\n",
              "8  Fascination    Carnival   19  ...   10.20              34.29   9.20\n",
              "9      Freedom    Carnival    6  ...   14.87              29.79  11.50\n",
              "\n",
              "[10 rows x 9 columns]"
            ]
          },
          "metadata": {
            "tags": []
          },
          "execution_count": 6
        }
      ]
    },
    {
      "cell_type": "code",
      "metadata": {
        "colab": {
          "base_uri": "https://localhost:8080/"
        },
        "id": "nqbUwmXgFOSd",
        "outputId": "ee44000c-0ffc-41c3-ac59-ab9d8a623c22"
      },
      "source": [
        "#This are the columns of the dataset \n",
        "data.columns"
      ],
      "execution_count": 7,
      "outputs": [
        {
          "output_type": "execute_result",
          "data": {
            "text/plain": [
              "Index(['Ship_name', 'Cruise_line', 'Age', 'Tonnage', 'passengers', 'length',\n",
              "       'cabins', 'passenger_density', 'crew'],\n",
              "      dtype='object')"
            ]
          },
          "metadata": {
            "tags": []
          },
          "execution_count": 7
        }
      ]
    },
    {
      "cell_type": "code",
      "metadata": {
        "colab": {
          "base_uri": "https://localhost:8080/"
        },
        "id": "mk4xgg1rFQa5",
        "outputId": "4cedcef7-fb3e-45ff-9048-504379062abf"
      },
      "source": [
        "#Let's take a look to the type of collumns and non- null values\n",
        "data.info()"
      ],
      "execution_count": 8,
      "outputs": [
        {
          "output_type": "stream",
          "text": [
            "<class 'pandas.core.frame.DataFrame'>\n",
            "RangeIndex: 158 entries, 0 to 157\n",
            "Data columns (total 9 columns):\n",
            " #   Column             Non-Null Count  Dtype  \n",
            "---  ------             --------------  -----  \n",
            " 0   Ship_name          158 non-null    object \n",
            " 1   Cruise_line        158 non-null    object \n",
            " 2   Age                158 non-null    int64  \n",
            " 3   Tonnage            158 non-null    float64\n",
            " 4   passengers         158 non-null    float64\n",
            " 5   length             158 non-null    float64\n",
            " 6   cabins             158 non-null    float64\n",
            " 7   passenger_density  158 non-null    float64\n",
            " 8   crew               158 non-null    float64\n",
            "dtypes: float64(6), int64(1), object(2)\n",
            "memory usage: 11.2+ KB\n"
          ],
          "name": "stdout"
        }
      ]
    },
    {
      "cell_type": "markdown",
      "metadata": {
        "id": "BgdQt8n5FU1d"
      },
      "source": [
        "2)"
      ]
    },
    {
      "cell_type": "code",
      "metadata": {
        "colab": {
          "base_uri": "https://localhost:8080/"
        },
        "id": "_fux9cRZFSlU",
        "outputId": "f130cd03-5aed-4a1c-bc35-5df18709f7e5"
      },
      "source": [
        "#It seems there are no missing\n",
        "data.isna().mean()"
      ],
      "execution_count": 9,
      "outputs": [
        {
          "output_type": "execute_result",
          "data": {
            "text/plain": [
              "Ship_name            0.0\n",
              "Cruise_line          0.0\n",
              "Age                  0.0\n",
              "Tonnage              0.0\n",
              "passengers           0.0\n",
              "length               0.0\n",
              "cabins               0.0\n",
              "passenger_density    0.0\n",
              "crew                 0.0\n",
              "dtype: float64"
            ]
          },
          "metadata": {
            "tags": []
          },
          "execution_count": 9
        }
      ]
    },
    {
      "cell_type": "code",
      "metadata": {
        "colab": {
          "base_uri": "https://localhost:8080/",
          "height": 265
        },
        "id": "RqvUuEptFXWS",
        "outputId": "0f3a6f3b-a13f-4f0c-dae5-38c84cd54e02"
      },
      "source": [
        "#Let's visualize the principal information about our quantitative variables\n",
        "data.describe().transpose()"
      ],
      "execution_count": 10,
      "outputs": [
        {
          "output_type": "execute_result",
          "data": {
            "text/html": [
              "<div>\n",
              "<style scoped>\n",
              "    .dataframe tbody tr th:only-of-type {\n",
              "        vertical-align: middle;\n",
              "    }\n",
              "\n",
              "    .dataframe tbody tr th {\n",
              "        vertical-align: top;\n",
              "    }\n",
              "\n",
              "    .dataframe thead th {\n",
              "        text-align: right;\n",
              "    }\n",
              "</style>\n",
              "<table border=\"1\" class=\"dataframe\">\n",
              "  <thead>\n",
              "    <tr style=\"text-align: right;\">\n",
              "      <th></th>\n",
              "      <th>count</th>\n",
              "      <th>mean</th>\n",
              "      <th>std</th>\n",
              "      <th>min</th>\n",
              "      <th>25%</th>\n",
              "      <th>50%</th>\n",
              "      <th>75%</th>\n",
              "      <th>max</th>\n",
              "    </tr>\n",
              "  </thead>\n",
              "  <tbody>\n",
              "    <tr>\n",
              "      <th>Age</th>\n",
              "      <td>158.0</td>\n",
              "      <td>15.689873</td>\n",
              "      <td>7.615691</td>\n",
              "      <td>4.000</td>\n",
              "      <td>10.0000</td>\n",
              "      <td>14.000</td>\n",
              "      <td>20.0000</td>\n",
              "      <td>48.00</td>\n",
              "    </tr>\n",
              "    <tr>\n",
              "      <th>Tonnage</th>\n",
              "      <td>158.0</td>\n",
              "      <td>71.284671</td>\n",
              "      <td>37.229540</td>\n",
              "      <td>2.329</td>\n",
              "      <td>46.0130</td>\n",
              "      <td>71.899</td>\n",
              "      <td>90.7725</td>\n",
              "      <td>220.00</td>\n",
              "    </tr>\n",
              "    <tr>\n",
              "      <th>passengers</th>\n",
              "      <td>158.0</td>\n",
              "      <td>18.457405</td>\n",
              "      <td>9.677095</td>\n",
              "      <td>0.660</td>\n",
              "      <td>12.5350</td>\n",
              "      <td>19.500</td>\n",
              "      <td>24.8450</td>\n",
              "      <td>54.00</td>\n",
              "    </tr>\n",
              "    <tr>\n",
              "      <th>length</th>\n",
              "      <td>158.0</td>\n",
              "      <td>8.130633</td>\n",
              "      <td>1.793474</td>\n",
              "      <td>2.790</td>\n",
              "      <td>7.1000</td>\n",
              "      <td>8.555</td>\n",
              "      <td>9.5100</td>\n",
              "      <td>11.82</td>\n",
              "    </tr>\n",
              "    <tr>\n",
              "      <th>cabins</th>\n",
              "      <td>158.0</td>\n",
              "      <td>8.830000</td>\n",
              "      <td>4.471417</td>\n",
              "      <td>0.330</td>\n",
              "      <td>6.1325</td>\n",
              "      <td>9.570</td>\n",
              "      <td>10.8850</td>\n",
              "      <td>27.00</td>\n",
              "    </tr>\n",
              "    <tr>\n",
              "      <th>passenger_density</th>\n",
              "      <td>158.0</td>\n",
              "      <td>39.900949</td>\n",
              "      <td>8.639217</td>\n",
              "      <td>17.700</td>\n",
              "      <td>34.5700</td>\n",
              "      <td>39.085</td>\n",
              "      <td>44.1850</td>\n",
              "      <td>71.43</td>\n",
              "    </tr>\n",
              "    <tr>\n",
              "      <th>crew</th>\n",
              "      <td>158.0</td>\n",
              "      <td>7.794177</td>\n",
              "      <td>3.503487</td>\n",
              "      <td>0.590</td>\n",
              "      <td>5.4800</td>\n",
              "      <td>8.150</td>\n",
              "      <td>9.9900</td>\n",
              "      <td>21.00</td>\n",
              "    </tr>\n",
              "  </tbody>\n",
              "</table>\n",
              "</div>"
            ],
            "text/plain": [
              "                   count       mean        std  ...     50%      75%     max\n",
              "Age                158.0  15.689873   7.615691  ...  14.000  20.0000   48.00\n",
              "Tonnage            158.0  71.284671  37.229540  ...  71.899  90.7725  220.00\n",
              "passengers         158.0  18.457405   9.677095  ...  19.500  24.8450   54.00\n",
              "length             158.0   8.130633   1.793474  ...   8.555   9.5100   11.82\n",
              "cabins             158.0   8.830000   4.471417  ...   9.570  10.8850   27.00\n",
              "passenger_density  158.0  39.900949   8.639217  ...  39.085  44.1850   71.43\n",
              "crew               158.0   7.794177   3.503487  ...   8.150   9.9900   21.00\n",
              "\n",
              "[7 rows x 8 columns]"
            ]
          },
          "metadata": {
            "tags": []
          },
          "execution_count": 10
        }
      ]
    },
    {
      "cell_type": "code",
      "metadata": {
        "id": "hxm_htaNFaj_"
      },
      "source": [
        "#As we can see the magnitude and scale of the variables are different. We should probably scale it"
      ],
      "execution_count": 11,
      "outputs": []
    },
    {
      "cell_type": "code",
      "metadata": {
        "colab": {
          "base_uri": "https://localhost:8080/"
        },
        "id": "TCQjFvwfFdaB",
        "outputId": "cec56406-6ef6-4e12-fa1e-4c8a4b8f2b8c"
      },
      "source": [
        "#Some of them are skewed\n",
        "data.skew()"
      ],
      "execution_count": 12,
      "outputs": [
        {
          "output_type": "execute_result",
          "data": {
            "text/plain": [
              "Age                  1.234593\n",
              "Tonnage              0.498268\n",
              "passengers           0.409181\n",
              "length              -0.785259\n",
              "cabins               0.270291\n",
              "passenger_density    0.940975\n",
              "crew                 0.194787\n",
              "dtype: float64"
            ]
          },
          "metadata": {
            "tags": []
          },
          "execution_count": 12
        }
      ]
    },
    {
      "cell_type": "code",
      "metadata": {
        "id": "EVirSJXIFf1_"
      },
      "source": [
        "# Just a glance for the qualitative variable. "
      ],
      "execution_count": 13,
      "outputs": []
    },
    {
      "cell_type": "code",
      "metadata": {
        "colab": {
          "base_uri": "https://localhost:8080/"
        },
        "id": "iyjHQA56FiKn",
        "outputId": "48484310-3765-4202-d668-c659302a01ac"
      },
      "source": [
        "#We can see that Ship_name has a maximum frequence of 4 so it's hard to regroup it( if we don't have further informations)\n",
        "#We could try to do it for Cruise_line\n",
        "data.Cruise_line.value_counts()"
      ],
      "execution_count": 14,
      "outputs": [
        {
          "output_type": "execute_result",
          "data": {
            "text/plain": [
              "Royal_Caribbean      23\n",
              "Carnival             22\n",
              "Princess             17\n",
              "Holland_American     14\n",
              "Norwegian            13\n",
              "Costa                11\n",
              "Celebrity            10\n",
              "MSC                   8\n",
              "Star                  6\n",
              "P&O                   6\n",
              "Regent_Seven_Seas     5\n",
              "Silversea             4\n",
              "Cunard                3\n",
              "Seabourn              3\n",
              "Windstar              3\n",
              "Oceania               3\n",
              "Azamara               2\n",
              "Disney                2\n",
              "Crystal               2\n",
              "Orient                1\n",
              "Name: Cruise_line, dtype: int64"
            ]
          },
          "metadata": {
            "tags": []
          },
          "execution_count": 14
        }
      ]
    },
    {
      "cell_type": "code",
      "metadata": {
        "colab": {
          "base_uri": "https://localhost:8080/",
          "height": 172
        },
        "id": "yv9yhpzLGc30",
        "outputId": "6f4c77fd-9d24-4f5a-cac9-73a3a5974e5a"
      },
      "source": [
        "#the most frequent name is \"Spirit\" in 4 cases and the \"Royal_Caribbean\" is the most frequent Ship line. we have 138 and 20 different values for the 2 variables\n",
        "data.describe(include= \"object\")"
      ],
      "execution_count": 15,
      "outputs": [
        {
          "output_type": "execute_result",
          "data": {
            "text/html": [
              "<div>\n",
              "<style scoped>\n",
              "    .dataframe tbody tr th:only-of-type {\n",
              "        vertical-align: middle;\n",
              "    }\n",
              "\n",
              "    .dataframe tbody tr th {\n",
              "        vertical-align: top;\n",
              "    }\n",
              "\n",
              "    .dataframe thead th {\n",
              "        text-align: right;\n",
              "    }\n",
              "</style>\n",
              "<table border=\"1\" class=\"dataframe\">\n",
              "  <thead>\n",
              "    <tr style=\"text-align: right;\">\n",
              "      <th></th>\n",
              "      <th>Ship_name</th>\n",
              "      <th>Cruise_line</th>\n",
              "    </tr>\n",
              "  </thead>\n",
              "  <tbody>\n",
              "    <tr>\n",
              "      <th>count</th>\n",
              "      <td>158</td>\n",
              "      <td>158</td>\n",
              "    </tr>\n",
              "    <tr>\n",
              "      <th>unique</th>\n",
              "      <td>138</td>\n",
              "      <td>20</td>\n",
              "    </tr>\n",
              "    <tr>\n",
              "      <th>top</th>\n",
              "      <td>Spirit</td>\n",
              "      <td>Royal_Caribbean</td>\n",
              "    </tr>\n",
              "    <tr>\n",
              "      <th>freq</th>\n",
              "      <td>4</td>\n",
              "      <td>23</td>\n",
              "    </tr>\n",
              "  </tbody>\n",
              "</table>\n",
              "</div>"
            ],
            "text/plain": [
              "       Ship_name      Cruise_line\n",
              "count        158              158\n",
              "unique       138               20\n",
              "top       Spirit  Royal_Caribbean\n",
              "freq           4               23"
            ]
          },
          "metadata": {
            "tags": []
          },
          "execution_count": 15
        }
      ]
    },
    {
      "cell_type": "markdown",
      "metadata": {
        "id": "KheT7SBzGhTR"
      },
      "source": [
        "3)"
      ]
    },
    {
      "cell_type": "code",
      "metadata": {
        "colab": {
          "base_uri": "https://localhost:8080/",
          "height": 1000
        },
        "id": "u6PgXWxBGfnQ",
        "outputId": "5d00dd4a-e8c8-4211-dbf6-c10fde049d4a"
      },
      "source": [
        "#We can have an idea of the correlation between variables with the pairplot of the distributions.\n",
        "sns.pairplot(data)"
      ],
      "execution_count": 16,
      "outputs": [
        {
          "output_type": "execute_result",
          "data": {
            "text/plain": [
              "<seaborn.axisgrid.PairGrid at 0x7f6a345aed50>"
            ]
          },
          "metadata": {
            "tags": []
          },
          "execution_count": 16
        },
        {
          "output_type": "display_data",
          "data": {
            "image/png": "[encoded data removed]",
            "text/plain": [
              "<Figure size 1260x1260 with 56 Axes>"
            ]
          },
          "metadata": {
            "tags": [],
            "needs_background": "light"
          }
        }
      ]
    },
    {
      "cell_type": "markdown",
      "metadata": {
        "id": "fJ0Fz8sBGrdP"
      },
      "source": [
        "The target variable is almost correlated with the other quantitative variable and we can observe a certain skewness on the distribution. We could think to normalize it. Many other predictors seems correlated bu themselves as well"
      ]
    },
    {
      "cell_type": "code",
      "metadata": {
        "colab": {
          "base_uri": "https://localhost:8080/",
          "height": 285
        },
        "id": "x-UskaE5GkF0",
        "outputId": "4b2af6bc-eb4a-4d03-8856-eda3b669fd57"
      },
      "source": [
        "#Almost everyone of the quantitative variables seems highly correlated with \"Crew\" except for passenger_density\n",
        "data.corr()"
      ],
      "execution_count": 17,
      "outputs": [
        {
          "output_type": "execute_result",
          "data": {
            "text/html": [
              "<div>\n",
              "<style scoped>\n",
              "    .dataframe tbody tr th:only-of-type {\n",
              "        vertical-align: middle;\n",
              "    }\n",
              "\n",
              "    .dataframe tbody tr th {\n",
              "        vertical-align: top;\n",
              "    }\n",
              "\n",
              "    .dataframe thead th {\n",
              "        text-align: right;\n",
              "    }\n",
              "</style>\n",
              "<table border=\"1\" class=\"dataframe\">\n",
              "  <thead>\n",
              "    <tr style=\"text-align: right;\">\n",
              "      <th></th>\n",
              "      <th>Age</th>\n",
              "      <th>Tonnage</th>\n",
              "      <th>passengers</th>\n",
              "      <th>length</th>\n",
              "      <th>cabins</th>\n",
              "      <th>passenger_density</th>\n",
              "      <th>crew</th>\n",
              "    </tr>\n",
              "  </thead>\n",
              "  <tbody>\n",
              "    <tr>\n",
              "      <th>Age</th>\n",
              "      <td>1.000000</td>\n",
              "      <td>-0.606646</td>\n",
              "      <td>-0.515542</td>\n",
              "      <td>-0.532286</td>\n",
              "      <td>-0.510019</td>\n",
              "      <td>-0.278830</td>\n",
              "      <td>-0.530657</td>\n",
              "    </tr>\n",
              "    <tr>\n",
              "      <th>Tonnage</th>\n",
              "      <td>-0.606646</td>\n",
              "      <td>1.000000</td>\n",
              "      <td>0.945061</td>\n",
              "      <td>0.922368</td>\n",
              "      <td>0.948764</td>\n",
              "      <td>-0.040846</td>\n",
              "      <td>0.927569</td>\n",
              "    </tr>\n",
              "    <tr>\n",
              "      <th>passengers</th>\n",
              "      <td>-0.515542</td>\n",
              "      <td>0.945061</td>\n",
              "      <td>1.000000</td>\n",
              "      <td>0.883535</td>\n",
              "      <td>0.976341</td>\n",
              "      <td>-0.294867</td>\n",
              "      <td>0.915234</td>\n",
              "    </tr>\n",
              "    <tr>\n",
              "      <th>length</th>\n",
              "      <td>-0.532286</td>\n",
              "      <td>0.922368</td>\n",
              "      <td>0.883535</td>\n",
              "      <td>1.000000</td>\n",
              "      <td>0.889798</td>\n",
              "      <td>-0.090488</td>\n",
              "      <td>0.895857</td>\n",
              "    </tr>\n",
              "    <tr>\n",
              "      <th>cabins</th>\n",
              "      <td>-0.510019</td>\n",
              "      <td>0.948764</td>\n",
              "      <td>0.976341</td>\n",
              "      <td>0.889798</td>\n",
              "      <td>1.000000</td>\n",
              "      <td>-0.253181</td>\n",
              "      <td>0.950823</td>\n",
              "    </tr>\n",
              "    <tr>\n",
              "      <th>passenger_density</th>\n",
              "      <td>-0.278830</td>\n",
              "      <td>-0.040846</td>\n",
              "      <td>-0.294867</td>\n",
              "      <td>-0.090488</td>\n",
              "      <td>-0.253181</td>\n",
              "      <td>1.000000</td>\n",
              "      <td>-0.155509</td>\n",
              "    </tr>\n",
              "    <tr>\n",
              "      <th>crew</th>\n",
              "      <td>-0.530657</td>\n",
              "      <td>0.927569</td>\n",
              "      <td>0.915234</td>\n",
              "      <td>0.895857</td>\n",
              "      <td>0.950823</td>\n",
              "      <td>-0.155509</td>\n",
              "      <td>1.000000</td>\n",
              "    </tr>\n",
              "  </tbody>\n",
              "</table>\n",
              "</div>"
            ],
            "text/plain": [
              "                        Age   Tonnage  ...  passenger_density      crew\n",
              "Age                1.000000 -0.606646  ...          -0.278830 -0.530657\n",
              "Tonnage           -0.606646  1.000000  ...          -0.040846  0.927569\n",
              "passengers        -0.515542  0.945061  ...          -0.294867  0.915234\n",
              "length            -0.532286  0.922368  ...          -0.090488  0.895857\n",
              "cabins            -0.510019  0.948764  ...          -0.253181  0.950823\n",
              "passenger_density -0.278830 -0.040846  ...           1.000000 -0.155509\n",
              "crew              -0.530657  0.927569  ...          -0.155509  1.000000\n",
              "\n",
              "[7 rows x 7 columns]"
            ]
          },
          "metadata": {
            "tags": []
          },
          "execution_count": 17
        }
      ]
    },
    {
      "cell_type": "code",
      "metadata": {
        "colab": {
          "base_uri": "https://localhost:8080/",
          "height": 370
        },
        "id": "SBZ3ZQrsGvJI",
        "outputId": "97aa09c2-f4dd-41af-912a-ea8534d23466"
      },
      "source": [
        "#we have to take a look to the correlation between the predictors\n",
        "sns.heatmap(data.corr())"
      ],
      "execution_count": 18,
      "outputs": [
        {
          "output_type": "execute_result",
          "data": {
            "text/plain": [
              "<matplotlib.axes._subplots.AxesSubplot at 0x7f6a29963210>"
            ]
          },
          "metadata": {
            "tags": []
          },
          "execution_count": 18
        },
        {
          "output_type": "display_data",
          "data": {
            "image/png": "[encoded data removed]",
            "text/plain": [
              "<Figure size 432x288 with 2 Axes>"
            ]
          },
          "metadata": {
            "tags": [],
            "needs_background": "light"
          }
        }
      ]
    },
    {
      "cell_type": "markdown",
      "metadata": {
        "id": "Y5lQTcL1JBWZ"
      },
      "source": [
        "The most of the variables are highly correlated so we have to pay attention to the multicollinearity. However Passenger_density who seems less correlated to the target variable is incorrelated with the other potential predictors we could take it."
      ]
    },
    {
      "cell_type": "code",
      "metadata": {
        "colab": {
          "base_uri": "https://localhost:8080/"
        },
        "id": "_ZX31uyDH6PD",
        "outputId": "5e6bc182-ff4b-423a-9e6d-677e71b6e05e"
      },
      "source": [
        "#We can observe different mean values for the different Cruise line it could be potentially interesting\n",
        "data.groupby(\"Cruise_line\")[\"crew\"].mean().sort_values(ascending=False)"
      ],
      "execution_count": 19,
      "outputs": [
        {
          "output_type": "execute_result",
          "data": {
            "text/plain": [
              "Cruise_line\n",
              "Cunard               10.246667\n",
              "Carnival             10.135909\n",
              "Royal_Caribbean      10.016522\n",
              "Disney                9.450000\n",
              "Princess              9.322353\n",
              "P&O                   8.588333\n",
              "Norwegian             8.087692\n",
              "Celebrity             8.072000\n",
              "Costa                 7.700000\n",
              "MSC                   7.540000\n",
              "Holland_American      6.215000\n",
              "Crystal               5.905000\n",
              "Star                  5.363333\n",
              "Oceania               4.000000\n",
              "Azamara               3.550000\n",
              "Orient                3.500000\n",
              "Regent_Seven_Seas     3.146000\n",
              "Silversea             2.472500\n",
              "Seabourn              1.600000\n",
              "Windstar              1.186667\n",
              "Name: crew, dtype: float64"
            ]
          },
          "metadata": {
            "tags": []
          },
          "execution_count": 19
        }
      ]
    },
    {
      "cell_type": "code",
      "metadata": {
        "colab": {
          "base_uri": "https://localhost:8080/"
        },
        "id": "ieirszBjJE8L",
        "outputId": "d6dc3436-3657-4bda-fe1c-e2857725425e"
      },
      "source": [
        "#We can see that Carnival, royal_Caribbean and Princess (who were the most frequents) has a high crew size and we have lowest values for the lines wiiesh a lowest frequency\n",
        "data.groupby(\"Cruise_line\")[\"crew\"].count()"
      ],
      "execution_count": 20,
      "outputs": [
        {
          "output_type": "execute_result",
          "data": {
            "text/plain": [
              "Cruise_line\n",
              "Azamara               2\n",
              "Carnival             22\n",
              "Celebrity            10\n",
              "Costa                11\n",
              "Crystal               2\n",
              "Cunard                3\n",
              "Disney                2\n",
              "Holland_American     14\n",
              "MSC                   8\n",
              "Norwegian            13\n",
              "Oceania               3\n",
              "Orient                1\n",
              "P&O                   6\n",
              "Princess             17\n",
              "Regent_Seven_Seas     5\n",
              "Royal_Caribbean      23\n",
              "Seabourn              3\n",
              "Silversea             4\n",
              "Star                  6\n",
              "Windstar              3\n",
              "Name: crew, dtype: int64"
            ]
          },
          "metadata": {
            "tags": []
          },
          "execution_count": 20
        }
      ]
    },
    {
      "cell_type": "markdown",
      "metadata": {
        "id": "bk5iX6KKJLHg"
      },
      "source": [
        "we definitively could make some feature engineering on the variable Cruise_line and to keep it for the model"
      ]
    },
    {
      "cell_type": "markdown",
      "metadata": {
        "id": "vcVQvwBRJSWc"
      },
      "source": [
        "4)"
      ]
    },
    {
      "cell_type": "markdown",
      "metadata": {
        "id": "ci7wWZDgJXIi"
      },
      "source": [
        "I'd remove the *\"Ship_name\"* because it seems less significtive for the model and it's hard to transform in some useful way with feature engineering. i'll remove it and i prefer to keep Cruise_line who seems more sigificative. I will expect to find an outlier for the line \"Cunard\""
      ]
    },
    {
      "cell_type": "markdown",
      "metadata": {
        "id": "Nh6GAp-GJaHg"
      },
      "source": [
        "5)"
      ]
    },
    {
      "cell_type": "markdown",
      "metadata": {
        "id": "opSGeXMCJd9Z"
      },
      "source": [
        "Before to proceed with one hot encoding i want to make some feature engineering on the cruise_line variable because we have too much distint modalities and the less frequent has a similar behaviour on our target variable. We will join the modality with a frequency less than a certain threshold."
      ]
    },
    {
      "cell_type": "code",
      "metadata": {
        "id": "Kh-MM6vMJIvR"
      },
      "source": [
        "#Let's make a mapping to regroup the Cruise line based on the frequency\n",
        "Line_mapping={'Azamara':'low', 'Carnival':'High', 'Celebrity':'Medium', 'Costa':'High', 'Crystal':'low', 'Cunard':'low',\n",
        "       'Disney':'low', 'Holland_American':'High', 'MSC':'Medium','Norwegian':'High', 'Oceania':'low',\n",
        "       'Orient':'low', 'P&O':'Medium', 'Princess':'High', 'Regent_Seven_Seas':'low',\n",
        "       'Royal_Caribbean':'High', 'Seabourn':'low', 'Silversea':'low', 'Star':'Medium', 'Windstar':'low'}\n",
        "data[\"Line_freq\"]=data[\"Cruise_line\"].map(Line_mapping)"
      ],
      "execution_count": 21,
      "outputs": []
    },
    {
      "cell_type": "code",
      "metadata": {
        "colab": {
          "base_uri": "https://localhost:8080/"
        },
        "id": "mDbKzUF9JmGn",
        "outputId": "a6e1e4d6-4a2d-4ddd-d9bd-65cdd34e0a01"
      },
      "source": [
        "# We have now a new variable that we can use for the One hot Encoding\n",
        "data.Line_freq.value_counts()"
      ],
      "execution_count": 22,
      "outputs": [
        {
          "output_type": "execute_result",
          "data": {
            "text/plain": [
              "High      100\n",
              "Medium     30\n",
              "low        28\n",
              "Name: Line_freq, dtype: int64"
            ]
          },
          "metadata": {
            "tags": []
          },
          "execution_count": 22
        }
      ]
    },
    {
      "cell_type": "code",
      "metadata": {
        "colab": {
          "base_uri": "https://localhost:8080/",
          "height": 203
        },
        "id": "UPa4grzsJpSu",
        "outputId": "bd001689-86d2-451d-f293-d4aeb79b5a87"
      },
      "source": [
        "#Now we  can create our dummy variable...\n",
        "dummy=pd.get_dummies(data[\"Line_freq\"])\n",
        "dummy.head()"
      ],
      "execution_count": 23,
      "outputs": [
        {
          "output_type": "execute_result",
          "data": {
            "text/html": [
              "<div>\n",
              "<style scoped>\n",
              "    .dataframe tbody tr th:only-of-type {\n",
              "        vertical-align: middle;\n",
              "    }\n",
              "\n",
              "    .dataframe tbody tr th {\n",
              "        vertical-align: top;\n",
              "    }\n",
              "\n",
              "    .dataframe thead th {\n",
              "        text-align: right;\n",
              "    }\n",
              "</style>\n",
              "<table border=\"1\" class=\"dataframe\">\n",
              "  <thead>\n",
              "    <tr style=\"text-align: right;\">\n",
              "      <th></th>\n",
              "      <th>High</th>\n",
              "      <th>Medium</th>\n",
              "      <th>low</th>\n",
              "    </tr>\n",
              "  </thead>\n",
              "  <tbody>\n",
              "    <tr>\n",
              "      <th>0</th>\n",
              "      <td>0</td>\n",
              "      <td>0</td>\n",
              "      <td>1</td>\n",
              "    </tr>\n",
              "    <tr>\n",
              "      <th>1</th>\n",
              "      <td>0</td>\n",
              "      <td>0</td>\n",
              "      <td>1</td>\n",
              "    </tr>\n",
              "    <tr>\n",
              "      <th>2</th>\n",
              "      <td>1</td>\n",
              "      <td>0</td>\n",
              "      <td>0</td>\n",
              "    </tr>\n",
              "    <tr>\n",
              "      <th>3</th>\n",
              "      <td>1</td>\n",
              "      <td>0</td>\n",
              "      <td>0</td>\n",
              "    </tr>\n",
              "    <tr>\n",
              "      <th>4</th>\n",
              "      <td>1</td>\n",
              "      <td>0</td>\n",
              "      <td>0</td>\n",
              "    </tr>\n",
              "  </tbody>\n",
              "</table>\n",
              "</div>"
            ],
            "text/plain": [
              "   High  Medium  low\n",
              "0     0       0    1\n",
              "1     0       0    1\n",
              "2     1       0    0\n",
              "3     1       0    0\n",
              "4     1       0    0"
            ]
          },
          "metadata": {
            "tags": []
          },
          "execution_count": 23
        }
      ]
    },
    {
      "cell_type": "code",
      "metadata": {
        "colab": {
          "base_uri": "https://localhost:8080/",
          "height": 223
        },
        "id": "BgzXNystJr41",
        "outputId": "a27707e9-0314-47a4-8d90-facdc3798176"
      },
      "source": [
        "#Now we can concatenate our dummy variables in the original dataset\n",
        "data=pd.concat([data,dummy],axis=1)\n",
        "data.head()"
      ],
      "execution_count": 24,
      "outputs": [
        {
          "output_type": "execute_result",
          "data": {
            "text/html": [
              "<div>\n",
              "<style scoped>\n",
              "    .dataframe tbody tr th:only-of-type {\n",
              "        vertical-align: middle;\n",
              "    }\n",
              "\n",
              "    .dataframe tbody tr th {\n",
              "        vertical-align: top;\n",
              "    }\n",
              "\n",
              "    .dataframe thead th {\n",
              "        text-align: right;\n",
              "    }\n",
              "</style>\n",
              "<table border=\"1\" class=\"dataframe\">\n",
              "  <thead>\n",
              "    <tr style=\"text-align: right;\">\n",
              "      <th></th>\n",
              "      <th>Ship_name</th>\n",
              "      <th>Cruise_line</th>\n",
              "      <th>Age</th>\n",
              "      <th>Tonnage</th>\n",
              "      <th>passengers</th>\n",
              "      <th>length</th>\n",
              "      <th>cabins</th>\n",
              "      <th>passenger_density</th>\n",
              "      <th>crew</th>\n",
              "      <th>Line_freq</th>\n",
              "      <th>High</th>\n",
              "      <th>Medium</th>\n",
              "      <th>low</th>\n",
              "    </tr>\n",
              "  </thead>\n",
              "  <tbody>\n",
              "    <tr>\n",
              "      <th>0</th>\n",
              "      <td>Journey</td>\n",
              "      <td>Azamara</td>\n",
              "      <td>6</td>\n",
              "      <td>30.277</td>\n",
              "      <td>6.94</td>\n",
              "      <td>5.94</td>\n",
              "      <td>3.55</td>\n",
              "      <td>42.64</td>\n",
              "      <td>3.55</td>\n",
              "      <td>low</td>\n",
              "      <td>0</td>\n",
              "      <td>0</td>\n",
              "      <td>1</td>\n",
              "    </tr>\n",
              "    <tr>\n",
              "      <th>1</th>\n",
              "      <td>Quest</td>\n",
              "      <td>Azamara</td>\n",
              "      <td>6</td>\n",
              "      <td>30.277</td>\n",
              "      <td>6.94</td>\n",
              "      <td>5.94</td>\n",
              "      <td>3.55</td>\n",
              "      <td>42.64</td>\n",
              "      <td>3.55</td>\n",
              "      <td>low</td>\n",
              "      <td>0</td>\n",
              "      <td>0</td>\n",
              "      <td>1</td>\n",
              "    </tr>\n",
              "    <tr>\n",
              "      <th>2</th>\n",
              "      <td>Celebration</td>\n",
              "      <td>Carnival</td>\n",
              "      <td>26</td>\n",
              "      <td>47.262</td>\n",
              "      <td>14.86</td>\n",
              "      <td>7.22</td>\n",
              "      <td>7.43</td>\n",
              "      <td>31.80</td>\n",
              "      <td>6.70</td>\n",
              "      <td>High</td>\n",
              "      <td>1</td>\n",
              "      <td>0</td>\n",
              "      <td>0</td>\n",
              "    </tr>\n",
              "    <tr>\n",
              "      <th>3</th>\n",
              "      <td>Conquest</td>\n",
              "      <td>Carnival</td>\n",
              "      <td>11</td>\n",
              "      <td>110.000</td>\n",
              "      <td>29.74</td>\n",
              "      <td>9.53</td>\n",
              "      <td>14.88</td>\n",
              "      <td>36.99</td>\n",
              "      <td>19.10</td>\n",
              "      <td>High</td>\n",
              "      <td>1</td>\n",
              "      <td>0</td>\n",
              "      <td>0</td>\n",
              "    </tr>\n",
              "    <tr>\n",
              "      <th>4</th>\n",
              "      <td>Destiny</td>\n",
              "      <td>Carnival</td>\n",
              "      <td>17</td>\n",
              "      <td>101.353</td>\n",
              "      <td>26.42</td>\n",
              "      <td>8.92</td>\n",
              "      <td>13.21</td>\n",
              "      <td>38.36</td>\n",
              "      <td>10.00</td>\n",
              "      <td>High</td>\n",
              "      <td>1</td>\n",
              "      <td>0</td>\n",
              "      <td>0</td>\n",
              "    </tr>\n",
              "  </tbody>\n",
              "</table>\n",
              "</div>"
            ],
            "text/plain": [
              "     Ship_name Cruise_line  Age  Tonnage  ...  Line_freq  High  Medium  low\n",
              "0      Journey     Azamara    6   30.277  ...        low     0       0    1\n",
              "1        Quest     Azamara    6   30.277  ...        low     0       0    1\n",
              "2  Celebration    Carnival   26   47.262  ...       High     1       0    0\n",
              "3     Conquest    Carnival   11  110.000  ...       High     1       0    0\n",
              "4      Destiny    Carnival   17  101.353  ...       High     1       0    0\n",
              "\n",
              "[5 rows x 13 columns]"
            ]
          },
          "metadata": {
            "tags": []
          },
          "execution_count": 24
        }
      ]
    },
    {
      "cell_type": "markdown",
      "metadata": {
        "id": "jgg5C3XYJwGV"
      },
      "source": [
        "6)"
      ]
    },
    {
      "cell_type": "code",
      "metadata": {
        "id": "bHQ6PE8kJulo"
      },
      "source": [
        "#Import the necessary library for the split\n",
        "from sklearn.model_selection import train_test_split"
      ],
      "execution_count": 25,
      "outputs": []
    },
    {
      "cell_type": "markdown",
      "metadata": {
        "id": "wgJgYbyyJ0m6"
      },
      "source": [
        "Before to go on we should select the variables to create the X matrix for the predictors and the y columns for the target and transform it in array. To work with our data we need to scaled it and selecting the variables before"
      ]
    },
    {
      "cell_type": "code",
      "metadata": {
        "id": "-0HbJnQVJzqO"
      },
      "source": [
        "X=data[['Age', 'Tonnage', 'passengers', 'length',\n",
        "       'cabins', 'passenger_density', 'High', 'Medium','low']]"
      ],
      "execution_count": 26,
      "outputs": []
    },
    {
      "cell_type": "code",
      "metadata": {
        "colab": {
          "base_uri": "https://localhost:8080/",
          "height": 417
        },
        "id": "ATd0cinmKMIB",
        "outputId": "5f3e2d2a-c951-438d-bbbf-b9619be437cc"
      },
      "source": [
        "#As we use dummy variables i drop one that will be the baseline respect to the other\n",
        "X = X.drop(['Medium'], axis=1)\n",
        "X"
      ],
      "execution_count": 27,
      "outputs": [
        {
          "output_type": "execute_result",
          "data": {
            "text/html": [
              "<div>\n",
              "<style scoped>\n",
              "    .dataframe tbody tr th:only-of-type {\n",
              "        vertical-align: middle;\n",
              "    }\n",
              "\n",
              "    .dataframe tbody tr th {\n",
              "        vertical-align: top;\n",
              "    }\n",
              "\n",
              "    .dataframe thead th {\n",
              "        text-align: right;\n",
              "    }\n",
              "</style>\n",
              "<table border=\"1\" class=\"dataframe\">\n",
              "  <thead>\n",
              "    <tr style=\"text-align: right;\">\n",
              "      <th></th>\n",
              "      <th>Age</th>\n",
              "      <th>Tonnage</th>\n",
              "      <th>passengers</th>\n",
              "      <th>length</th>\n",
              "      <th>cabins</th>\n",
              "      <th>passenger_density</th>\n",
              "      <th>High</th>\n",
              "      <th>low</th>\n",
              "    </tr>\n",
              "  </thead>\n",
              "  <tbody>\n",
              "    <tr>\n",
              "      <th>0</th>\n",
              "      <td>6</td>\n",
              "      <td>30.277</td>\n",
              "      <td>6.94</td>\n",
              "      <td>5.94</td>\n",
              "      <td>3.55</td>\n",
              "      <td>42.64</td>\n",
              "      <td>0</td>\n",
              "      <td>1</td>\n",
              "    </tr>\n",
              "    <tr>\n",
              "      <th>1</th>\n",
              "      <td>6</td>\n",
              "      <td>30.277</td>\n",
              "      <td>6.94</td>\n",
              "      <td>5.94</td>\n",
              "      <td>3.55</td>\n",
              "      <td>42.64</td>\n",
              "      <td>0</td>\n",
              "      <td>1</td>\n",
              "    </tr>\n",
              "    <tr>\n",
              "      <th>2</th>\n",
              "      <td>26</td>\n",
              "      <td>47.262</td>\n",
              "      <td>14.86</td>\n",
              "      <td>7.22</td>\n",
              "      <td>7.43</td>\n",
              "      <td>31.80</td>\n",
              "      <td>1</td>\n",
              "      <td>0</td>\n",
              "    </tr>\n",
              "    <tr>\n",
              "      <th>3</th>\n",
              "      <td>11</td>\n",
              "      <td>110.000</td>\n",
              "      <td>29.74</td>\n",
              "      <td>9.53</td>\n",
              "      <td>14.88</td>\n",
              "      <td>36.99</td>\n",
              "      <td>1</td>\n",
              "      <td>0</td>\n",
              "    </tr>\n",
              "    <tr>\n",
              "      <th>4</th>\n",
              "      <td>17</td>\n",
              "      <td>101.353</td>\n",
              "      <td>26.42</td>\n",
              "      <td>8.92</td>\n",
              "      <td>13.21</td>\n",
              "      <td>38.36</td>\n",
              "      <td>1</td>\n",
              "      <td>0</td>\n",
              "    </tr>\n",
              "    <tr>\n",
              "      <th>...</th>\n",
              "      <td>...</td>\n",
              "      <td>...</td>\n",
              "      <td>...</td>\n",
              "      <td>...</td>\n",
              "      <td>...</td>\n",
              "      <td>...</td>\n",
              "      <td>...</td>\n",
              "      <td>...</td>\n",
              "    </tr>\n",
              "    <tr>\n",
              "      <th>153</th>\n",
              "      <td>22</td>\n",
              "      <td>3.341</td>\n",
              "      <td>0.66</td>\n",
              "      <td>2.79</td>\n",
              "      <td>0.33</td>\n",
              "      <td>50.62</td>\n",
              "      <td>0</td>\n",
              "      <td>0</td>\n",
              "    </tr>\n",
              "    <tr>\n",
              "      <th>154</th>\n",
              "      <td>14</td>\n",
              "      <td>76.800</td>\n",
              "      <td>19.60</td>\n",
              "      <td>8.79</td>\n",
              "      <td>9.67</td>\n",
              "      <td>39.18</td>\n",
              "      <td>0</td>\n",
              "      <td>0</td>\n",
              "    </tr>\n",
              "    <tr>\n",
              "      <th>155</th>\n",
              "      <td>25</td>\n",
              "      <td>5.350</td>\n",
              "      <td>1.58</td>\n",
              "      <td>4.40</td>\n",
              "      <td>0.74</td>\n",
              "      <td>33.86</td>\n",
              "      <td>0</td>\n",
              "      <td>1</td>\n",
              "    </tr>\n",
              "    <tr>\n",
              "      <th>156</th>\n",
              "      <td>27</td>\n",
              "      <td>5.350</td>\n",
              "      <td>1.67</td>\n",
              "      <td>4.40</td>\n",
              "      <td>0.74</td>\n",
              "      <td>32.04</td>\n",
              "      <td>0</td>\n",
              "      <td>1</td>\n",
              "    </tr>\n",
              "    <tr>\n",
              "      <th>157</th>\n",
              "      <td>23</td>\n",
              "      <td>14.745</td>\n",
              "      <td>3.08</td>\n",
              "      <td>6.17</td>\n",
              "      <td>1.56</td>\n",
              "      <td>47.87</td>\n",
              "      <td>0</td>\n",
              "      <td>1</td>\n",
              "    </tr>\n",
              "  </tbody>\n",
              "</table>\n",
              "<p>158 rows × 8 columns</p>\n",
              "</div>"
            ],
            "text/plain": [
              "     Age  Tonnage  passengers  length  cabins  passenger_density  High  low\n",
              "0      6   30.277        6.94    5.94    3.55              42.64     0    1\n",
              "1      6   30.277        6.94    5.94    3.55              42.64     0    1\n",
              "2     26   47.262       14.86    7.22    7.43              31.80     1    0\n",
              "3     11  110.000       29.74    9.53   14.88              36.99     1    0\n",
              "4     17  101.353       26.42    8.92   13.21              38.36     1    0\n",
              "..   ...      ...         ...     ...     ...                ...   ...  ...\n",
              "153   22    3.341        0.66    2.79    0.33              50.62     0    0\n",
              "154   14   76.800       19.60    8.79    9.67              39.18     0    0\n",
              "155   25    5.350        1.58    4.40    0.74              33.86     0    1\n",
              "156   27    5.350        1.67    4.40    0.74              32.04     0    1\n",
              "157   23   14.745        3.08    6.17    1.56              47.87     0    1\n",
              "\n",
              "[158 rows x 8 columns]"
            ]
          },
          "metadata": {
            "tags": []
          },
          "execution_count": 27
        }
      ]
    },
    {
      "cell_type": "code",
      "metadata": {
        "colab": {
          "base_uri": "https://localhost:8080/"
        },
        "id": "mEfdSCJDKOLJ",
        "outputId": "7eef693e-44eb-4412-fc74-8b6e45e098a5"
      },
      "source": [
        "#It's time to scale data before to apply the model of linear regression\n",
        "from sklearn.preprocessing import MinMaxScaler\n",
        "\n",
        "minmax_scale = MinMaxScaler()\n",
        "#Defining the X matrix of predictors\n",
        "X=minmax_scale.fit_transform(X)\n",
        "X"
      ],
      "execution_count": 28,
      "outputs": [
        {
          "output_type": "execute_result",
          "data": {
            "text/plain": [
              "array([[0.04545455, 0.12839561, 0.11773528, ..., 0.46417272, 0.        ,\n",
              "        1.        ],\n",
              "       [0.04545455, 0.12839561, 0.11773528, ..., 0.46417272, 0.        ,\n",
              "        1.        ],\n",
              "       [0.5       , 0.20642621, 0.26621672, ..., 0.26242323, 1.        ,\n",
              "        0.        ],\n",
              "       ...,\n",
              "       [0.47727273, 0.01387874, 0.01724784, ..., 0.30076307, 0.        ,\n",
              "        1.        ],\n",
              "       [0.52272727, 0.01387874, 0.01893513, ..., 0.26689001, 0.        ,\n",
              "        1.        ],\n",
              "       [0.43181818, 0.05704021, 0.04536933, ..., 0.56151126, 0.        ,\n",
              "        1.        ]])"
            ]
          },
          "metadata": {
            "tags": []
          },
          "execution_count": 28
        }
      ]
    },
    {
      "cell_type": "code",
      "metadata": {
        "colab": {
          "base_uri": "https://localhost:8080/"
        },
        "id": "XV1HjztUKQvQ",
        "outputId": "6d88c947-5997-491e-b35c-9097966b84c0"
      },
      "source": [
        "#Defining the target variable\n",
        "y=data[\"crew\"]\n",
        "y"
      ],
      "execution_count": 29,
      "outputs": [
        {
          "output_type": "execute_result",
          "data": {
            "text/plain": [
              "0       3.55\n",
              "1       3.55\n",
              "2       6.70\n",
              "3      19.10\n",
              "4      10.00\n",
              "       ...  \n",
              "153     0.59\n",
              "154    12.00\n",
              "155     0.88\n",
              "156     0.88\n",
              "157     1.80\n",
              "Name: crew, Length: 158, dtype: float64"
            ]
          },
          "metadata": {
            "tags": []
          },
          "execution_count": 29
        }
      ]
    },
    {
      "cell_type": "code",
      "metadata": {
        "id": "LANasTk1KTQk"
      },
      "source": [
        "#Splitting the data in train and test\n",
        "X_train, X_test, y_train, y_test = train_test_split( X, y, test_size=0.30, random_state=1)"
      ],
      "execution_count": 30,
      "outputs": []
    },
    {
      "cell_type": "code",
      "metadata": {
        "colab": {
          "base_uri": "https://localhost:8080/"
        },
        "id": "Qmg6GpDgKnOV",
        "outputId": "5c49ac05-4881-4a20-98df-626482348ee0"
      },
      "source": [
        "#Let's have a look to the dimensions of datasets\n",
        "print(X_train.shape)\n",
        "print(X_test.shape)\n",
        "print(y_train.shape)\n",
        "y_test.shape"
      ],
      "execution_count": 31,
      "outputs": [
        {
          "output_type": "stream",
          "text": [
            "(110, 8)\n",
            "(48, 8)\n",
            "(110,)\n"
          ],
          "name": "stdout"
        },
        {
          "output_type": "execute_result",
          "data": {
            "text/plain": [
              "(48,)"
            ]
          },
          "metadata": {
            "tags": []
          },
          "execution_count": 31
        }
      ]
    },
    {
      "cell_type": "markdown",
      "metadata": {
        "id": "TgoelK9kKp_2"
      },
      "source": [
        "Now we have splitted the data"
      ]
    },
    {
      "cell_type": "markdown",
      "metadata": {
        "id": "qZEt2-RvKtRH"
      },
      "source": [
        "7)"
      ]
    },
    {
      "cell_type": "code",
      "metadata": {
        "colab": {
          "base_uri": "https://localhost:8080/"
        },
        "id": "TUy2oR5KKpYw",
        "outputId": "6fb478f8-caa6-4b62-d123-b10c81006aff"
      },
      "source": [
        "#Instantiate and fit the model\n",
        "from sklearn.linear_model import LinearRegression\n",
        "\n",
        "regression_model = LinearRegression()\n",
        "regression_model.fit(X_train, y_train)"
      ],
      "execution_count": 32,
      "outputs": [
        {
          "output_type": "execute_result",
          "data": {
            "text/plain": [
              "LinearRegression(copy_X=True, fit_intercept=True, n_jobs=None, normalize=False)"
            ]
          },
          "metadata": {
            "tags": []
          },
          "execution_count": 32
        }
      ]
    },
    {
      "cell_type": "code",
      "metadata": {
        "colab": {
          "base_uri": "https://localhost:8080/"
        },
        "id": "B9Dx8PTpKwZ5",
        "outputId": "8693d89e-303c-4bda-a5bc-0e028902ee6d"
      },
      "source": [
        "cols=['Age', 'Tonnage', 'passengers', 'length',\n",
        "       'cabins', 'passenger_density', 'High','low']\n",
        "n=0\n",
        "for i in cols:\n",
        "    print(\"The coefficient for {} is {}\".format(i, regression_model.coef_[n]))\n",
        "    n+=1"
      ],
      "execution_count": 33,
      "outputs": [
        {
          "output_type": "stream",
          "text": [
            "The coefficient for Age is -0.19036342677606433\n",
            "The coefficient for Tonnage is 2.3175270574154947\n",
            "The coefficient for passengers is -7.665688430907104\n",
            "The coefficient for length is 3.742251798755576\n",
            "The coefficient for cabins is 22.48701778603057\n",
            "The coefficient for passenger_density is 0.10855739442325651\n",
            "The coefficient for High is -0.647270211113942\n",
            "The coefficient for low is -0.2989382729421073\n"
          ],
          "name": "stdout"
        }
      ]
    },
    {
      "cell_type": "markdown",
      "metadata": {
        "id": "fWio3mMpK1gF"
      },
      "source": [
        "We have to pay attention to evaluate the coefficient because there could be multicollinearity. Let's take a look to the results for the predictions"
      ]
    },
    {
      "cell_type": "code",
      "metadata": {
        "colab": {
          "base_uri": "https://localhost:8080/"
        },
        "id": "ZKSI8PT6KyjS",
        "outputId": "fcd1b67e-ca30-45d8-e6df-3dd4aaadf4ab"
      },
      "source": [
        "regression_model.coef_"
      ],
      "execution_count": 34,
      "outputs": [
        {
          "output_type": "execute_result",
          "data": {
            "text/plain": [
              "array([-0.19036343,  2.31752706, -7.66568843,  3.7422518 , 22.48701779,\n",
              "        0.10855739, -0.64727021, -0.29893827])"
            ]
          },
          "metadata": {
            "tags": []
          },
          "execution_count": 34
        }
      ]
    },
    {
      "cell_type": "code",
      "metadata": {
        "colab": {
          "base_uri": "https://localhost:8080/"
        },
        "id": "Yv8BgaanK90D",
        "outputId": "6d787e27-b2a3-41ea-a710-d813f82ce6a5"
      },
      "source": [
        "#Let's see the score of the model on training set\n",
        "regression_model.score(X_train, y_train)"
      ],
      "execution_count": 35,
      "outputs": [
        {
          "output_type": "execute_result",
          "data": {
            "text/plain": [
              "0.9234253490968567"
            ]
          },
          "metadata": {
            "tags": []
          },
          "execution_count": 35
        }
      ]
    },
    {
      "cell_type": "code",
      "metadata": {
        "colab": {
          "base_uri": "https://localhost:8080/"
        },
        "id": "9bPNzqnvLAMO",
        "outputId": "a4e78dc2-3470-44be-e958-c5ecda8d9639"
      },
      "source": [
        "#The same with the test set \n",
        "regression_model.score(X_test, y_test)"
      ],
      "execution_count": 36,
      "outputs": [
        {
          "output_type": "execute_result",
          "data": {
            "text/plain": [
              "0.9523362154544126"
            ]
          },
          "metadata": {
            "tags": []
          },
          "execution_count": 36
        }
      ]
    },
    {
      "cell_type": "markdown",
      "metadata": {
        "id": "SyGDNstkLFf3"
      },
      "source": [
        "Now we can compare the fist 10 predictions for the test set."
      ]
    },
    {
      "cell_type": "code",
      "metadata": {
        "colab": {
          "base_uri": "https://localhost:8080/"
        },
        "id": "H5ogupTLLCoa",
        "outputId": "6f592b9c-b1a0-406f-b9e2-bc0eb21a14ce"
      },
      "source": [
        "y_pred=regression_model.predict(X_test)\n",
        "y_test.head(10)"
      ],
      "execution_count": 37,
      "outputs": [
        {
          "output_type": "execute_result",
          "data": {
            "text/plain": [
              "29      9.99\n",
              "107     6.96\n",
              "14      9.30\n",
              "81     10.00\n",
              "124    13.60\n",
              "19      9.20\n",
              "73      7.60\n",
              "11      6.60\n",
              "40      3.85\n",
              "95      7.94\n",
              "Name: crew, dtype: float64"
            ]
          },
          "metadata": {
            "tags": []
          },
          "execution_count": 37
        }
      ]
    },
    {
      "cell_type": "code",
      "metadata": {
        "colab": {
          "base_uri": "https://localhost:8080/"
        },
        "id": "xRZqSR9rLIjm",
        "outputId": "0b965bea-1ca8-4f2e-96e2-05dce4abff5f"
      },
      "source": [
        "y_pred[0:10]"
      ],
      "execution_count": 38,
      "outputs": [
        {
          "output_type": "execute_result",
          "data": {
            "text/plain": [
              "array([ 9.61374196,  7.1467438 ,  9.50626456,  9.33772228, 13.89358764,\n",
              "        8.59012587,  7.72492445,  6.14437699,  3.61250291,  8.58035119])"
            ]
          },
          "metadata": {
            "tags": []
          },
          "execution_count": 38
        }
      ]
    },
    {
      "cell_type": "markdown",
      "metadata": {
        "id": "xz5cmDDgLlxw"
      },
      "source": [
        "IT seems we have a good result with an  𝑅2  of around  95  for the test set. The value for the test set is better than the training set so we can't say that there is overfitting with this model"
      ]
    },
    {
      "cell_type": "markdown",
      "metadata": {
        "id": "bsuEX16uLoVT"
      },
      "source": [
        "8)"
      ]
    },
    {
      "cell_type": "markdown",
      "metadata": {
        "id": "gGNqKwENL2MR"
      },
      "source": [
        "If you mean the Pearson's correlation coefficient who is the root of the coefficient of determination you have to make the square root of the  𝑟2  calculated on train and test set in terms of predictions for the target variable. In this case we are calculating the correlation between the y predicted respect to the real values. We have a better result so we can't say that there is overfitting. We could think about underfitting but 95% is a good result on our test set."
      ]
    },
    {
      "cell_type": "code",
      "metadata": {
        "colab": {
          "base_uri": "https://localhost:8080/"
        },
        "id": "zcFCL0jNLPdS",
        "outputId": "68a16da9-5b55-45ce-8484-78ba76aae659"
      },
      "source": [
        "#This is the Coefficient of Pearson for 2 datasets ( if you want that)\n",
        "np.corrcoef(X_train,X_test)"
      ],
      "execution_count": 39,
      "outputs": [
        {
          "output_type": "execute_result",
          "data": {
            "text/plain": [
              "array([[ 1.        , -0.66727496, -0.67057604, ..., -0.79477933,\n",
              "        -0.39822314,  0.00349893],\n",
              "       [-0.66727496,  1.        ,  0.95938183, ...,  0.91353643,\n",
              "         0.00875034,  0.03538531],\n",
              "       [-0.67057604,  0.95938183,  1.        , ...,  0.97258462,\n",
              "         0.01879032, -0.10068586],\n",
              "       ...,\n",
              "       [-0.79477933,  0.91353643,  0.97258462, ...,  1.        ,\n",
              "         0.18260823, -0.09942887],\n",
              "       [-0.39822314,  0.00875034,  0.01879032, ...,  0.18260823,\n",
              "         1.        ,  0.59478032],\n",
              "       [ 0.00349893,  0.03538531, -0.10068586, ..., -0.09942887,\n",
              "         0.59478032,  1.        ]])"
            ]
          },
          "metadata": {
            "tags": []
          },
          "execution_count": 39
        }
      ]
    },
    {
      "cell_type": "markdown",
      "metadata": {
        "id": "GXHIvgH6L6xy"
      },
      "source": [
        "9)"
      ]
    },
    {
      "cell_type": "markdown",
      "metadata": {
        "id": "rtfXjZ4-L-pe"
      },
      "source": [
        "Hyperparameter is a parameter that concerns the numerical optimization problem at hand. It is used to control the learning process.\n",
        "While the simple Linear Regression that i used in this case doesn't present hyperparameter... i could use another valid model for a regression problem.. So i choose SVR"
      ]
    },
    {
      "cell_type": "code",
      "metadata": {
        "colab": {
          "base_uri": "https://localhost:8080/"
        },
        "id": "LtQ80BkbL5Vj",
        "outputId": "0e242202-4344-4984-fd22-950839d56317"
      },
      "source": [
        "from sklearn.svm import SVR\n",
        "regr=SVR(C=1.0,kernel=\"linear\")\n",
        "regr.fit(X_train, y_train)"
      ],
      "execution_count": 40,
      "outputs": [
        {
          "output_type": "execute_result",
          "data": {
            "text/plain": [
              "SVR(C=1.0, cache_size=200, coef0=0.0, degree=3, epsilon=0.1, gamma='scale',\n",
              "    kernel='linear', max_iter=-1, shrinking=True, tol=0.001, verbose=False)"
            ]
          },
          "metadata": {
            "tags": []
          },
          "execution_count": 40
        }
      ]
    },
    {
      "cell_type": "markdown",
      "metadata": {
        "id": "TkDQzyuUMDrG"
      },
      "source": [
        "In this case the kind of kernel is an hyperparameter. We have more options (\"linear\",\"poly\",\"sigmoid\"...) and the result will change. Let's see how the performances will change with different options for the Hyperparameter."
      ]
    },
    {
      "cell_type": "code",
      "metadata": {
        "colab": {
          "base_uri": "https://localhost:8080/"
        },
        "id": "jpepNLtyMBbk",
        "outputId": "9a4bf6a6-a03d-44f2-f8d2-916a0b52ac8d"
      },
      "source": [
        "regr.score(X_train, y_train)"
      ],
      "execution_count": 41,
      "outputs": [
        {
          "output_type": "execute_result",
          "data": {
            "text/plain": [
              "0.8864314479420111"
            ]
          },
          "metadata": {
            "tags": []
          },
          "execution_count": 41
        }
      ]
    },
    {
      "cell_type": "code",
      "metadata": {
        "colab": {
          "base_uri": "https://localhost:8080/"
        },
        "id": "X06mJtbvMG10",
        "outputId": "d1f73d94-aa11-43f8-e22c-55b53e104c13"
      },
      "source": [
        "regr.score(X_test, y_test)"
      ],
      "execution_count": 42,
      "outputs": [
        {
          "output_type": "execute_result",
          "data": {
            "text/plain": [
              "0.9144408512515888"
            ]
          },
          "metadata": {
            "tags": []
          },
          "execution_count": 42
        }
      ]
    },
    {
      "cell_type": "code",
      "metadata": {
        "colab": {
          "base_uri": "https://localhost:8080/"
        },
        "id": "GpdfKTU0MJO-",
        "outputId": "2d2ab987-8f2c-4e5d-c7ec-865f23b50374"
      },
      "source": [
        "regr=SVR(C=1.0,kernel=\"rbf\")\n",
        "regr.fit(X_train, y_train)\n",
        "regr.score(X_test, y_test)"
      ],
      "execution_count": 43,
      "outputs": [
        {
          "output_type": "execute_result",
          "data": {
            "text/plain": [
              "0.9087627899061025"
            ]
          },
          "metadata": {
            "tags": []
          },
          "execution_count": 43
        }
      ]
    },
    {
      "cell_type": "code",
      "metadata": {
        "colab": {
          "base_uri": "https://localhost:8080/"
        },
        "id": "j2zoDHroMMqU",
        "outputId": "7e2c217b-106e-4223-b7ea-d055a1830737"
      },
      "source": [
        "regr=SVR(C=1.0,kernel=\"linear\")\n",
        "regr.fit(X_train, y_train)\n",
        "regr.score(X_test, y_test)"
      ],
      "execution_count": 44,
      "outputs": [
        {
          "output_type": "execute_result",
          "data": {
            "text/plain": [
              "0.9144408512515888"
            ]
          },
          "metadata": {
            "tags": []
          },
          "execution_count": 44
        }
      ]
    },
    {
      "cell_type": "code",
      "metadata": {
        "colab": {
          "base_uri": "https://localhost:8080/"
        },
        "id": "YWBCQ_8QMOh8",
        "outputId": "240f3f03-a095-4cb6-f53a-b7cfdab94656"
      },
      "source": [
        "regr=SVR(C=1.0,kernel=\"poly\")\n",
        "regr.fit(X_train, y_train)\n",
        "regr.score(X_train, y_train)\n",
        "regr.score(X_test, y_test)"
      ],
      "execution_count": 45,
      "outputs": [
        {
          "output_type": "execute_result",
          "data": {
            "text/plain": [
              "0.9249547825946789"
            ]
          },
          "metadata": {
            "tags": []
          },
          "execution_count": 45
        }
      ]
    },
    {
      "cell_type": "markdown",
      "metadata": {
        "id": "tOIJ81njMT_p"
      },
      "source": [
        "In this case the polynomial seems to be the best options.. We leave the default option (degree =3) for the polinomial degree"
      ]
    },
    {
      "cell_type": "markdown",
      "metadata": {
        "id": "Ot57YipgMWKN"
      },
      "source": [
        "10)"
      ]
    },
    {
      "cell_type": "markdown",
      "metadata": {
        "id": "UPDTnPqdMZcQ"
      },
      "source": [
        "We can consider the regularization as pthe process of adding information in order to prevent overfitting problems. We want now to introduce the Ridge Regression who is a more complex way to make linear Regression with the help of a term of regularization α (alpha) who introduce a penalty term. The regularization with the hyperparameter alpha modify the loss function avoiding overfitting. This especially when you have a lot of feature is important to drive the magnitude of some coefficients down and help in some way to keep an higher importance to the most important variables for the model."
      ]
    },
    {
      "cell_type": "code",
      "metadata": {
        "colab": {
          "base_uri": "https://localhost:8080/"
        },
        "id": "J6Xe9yqgMRjv",
        "outputId": "d8c3d677-1334-44be-8c90-334958a02d21"
      },
      "source": [
        "from sklearn.linear_model import Ridge\n",
        "regr_r = Ridge(alpha= 1.0)\n",
        "regr_r.fit(X_train, y_train)"
      ],
      "execution_count": 46,
      "outputs": [
        {
          "output_type": "execute_result",
          "data": {
            "text/plain": [
              "Ridge(alpha=1.0, copy_X=True, fit_intercept=True, max_iter=None,\n",
              "      normalize=False, random_state=None, solver='auto', tol=0.001)"
            ]
          },
          "metadata": {
            "tags": []
          },
          "execution_count": 46
        }
      ]
    },
    {
      "cell_type": "code",
      "metadata": {
        "colab": {
          "base_uri": "https://localhost:8080/"
        },
        "id": "I94FueoSMb5l",
        "outputId": "573430f6-18f4-498e-cbc3-78ea0c1fce46"
      },
      "source": [
        "regr_r.score(X_test, y_test)"
      ],
      "execution_count": 47,
      "outputs": [
        {
          "output_type": "execute_result",
          "data": {
            "text/plain": [
              "0.9195013562327117"
            ]
          },
          "metadata": {
            "tags": []
          },
          "execution_count": 47
        }
      ]
    },
    {
      "cell_type": "markdown",
      "metadata": {
        "id": "X2H2OA-lMg17"
      },
      "source": [
        "In this case Alpha is the regularization parameter and if we change its value we will have a different score. In the case of SVR C was our parmeter of regularization"
      ]
    },
    {
      "cell_type": "code",
      "metadata": {
        "colab": {
          "base_uri": "https://localhost:8080/"
        },
        "id": "gXEON0ATMej8",
        "outputId": "0040fbbb-530f-49f5-8303-e000eee66cf5"
      },
      "source": [
        "#With a lower value of alpha we improved our predictions like in this case\n",
        "from sklearn.linear_model import Ridge\n",
        "regr_r = Ridge(alpha= 0.5)\n",
        "regr_r.fit(X_train, y_train)\n",
        "regr_r.score(X_test, y_test)"
      ],
      "execution_count": 48,
      "outputs": [
        {
          "output_type": "execute_result",
          "data": {
            "text/plain": [
              "0.9239872644477339"
            ]
          },
          "metadata": {
            "tags": []
          },
          "execution_count": 48
        }
      ]
    },
    {
      "cell_type": "markdown",
      "metadata": {
        "id": "MzRKKHgAMktU"
      },
      "source": [
        "11)"
      ]
    },
    {
      "cell_type": "markdown",
      "metadata": {
        "id": "IFtmmCSqMn0R"
      },
      "source": [
        "We are going to plot the relation between the tuning of hyperparameter and the coefficient of correlation for training and test set. Let's start with the training"
      ]
    },
    {
      "cell_type": "code",
      "metadata": {
        "colab": {
          "base_uri": "https://localhost:8080/",
          "height": 299
        },
        "id": "17jKnsXyMkFP",
        "outputId": "fe1a46da-ac4a-4ea4-b89c-cd4fe892abea"
      },
      "source": [
        "n_alphas = 200\n",
        "alphas = np.logspace(-10, -2, n_alphas)\n",
        "coefs_train=[]\n",
        "\n",
        "for a in alphas:\n",
        "    ridge = Ridge(alpha=a, fit_intercept=False)\n",
        "    ridge.fit(X_train, y_train)\n",
        "    coefs_train.append(ridge.score(X_train,y_train))\n",
        "\n",
        "    \n",
        "\n",
        "ax = plt.gca()\n",
        "\n",
        "ax.plot(alphas, coefs_train)\n",
        "ax.set_xscale('log')\n",
        "ax.set_xlim(ax.get_xlim()[::-1])  # reverse axis\n",
        "plt.xlabel('alpha')\n",
        "plt.ylabel('score')\n",
        "plt.title('Ridge coefficients as a function of the regularization for the train')\n",
        "plt.axis('tight')\n",
        "plt.show()"
      ],
      "execution_count": 49,
      "outputs": [
        {
          "output_type": "display_data",
          "data": {
            "image/png": "[encoded data removed]",
            "text/plain": [
              "<Figure size 432x288 with 1 Axes>"
            ]
          },
          "metadata": {
            "tags": [],
            "needs_background": "light"
          }
        }
      ]
    },
    {
      "cell_type": "code",
      "metadata": {
        "colab": {
          "base_uri": "https://localhost:8080/",
          "height": 299
        },
        "id": "TgGiw-2WMsku",
        "outputId": "80d8ad2c-1d18-4eb7-ed30-2c4807ff957e"
      },
      "source": [
        "#And now the same with test set\n",
        "n_alphas = 200\n",
        "alphas = np.logspace(-10, -2, n_alphas)\n",
        "coefs_test = []\n",
        "coefs_train=[]\n",
        "\n",
        "for a in alphas:\n",
        "    ridge = Ridge(alpha=a, fit_intercept=False)\n",
        "    ridge.fit(X_train, y_train)\n",
        "    coefs_train.append(ridge.score(X_train,y_train))\n",
        "    coefs_test.append(ridge.score(X_test,y_test))\n",
        "    \n",
        "    \n",
        "\n",
        "ax = plt.gca()\n",
        "\n",
        "ax.plot(alphas, coefs_test)\n",
        "#ax.plot(alphas, coefs_train)\n",
        "ax.set_xscale('log')\n",
        "ax.set_xlim(ax.get_xlim()[::-1])  # reverse axis\n",
        "plt.xlabel('alpha')\n",
        "plt.ylabel('score')\n",
        "plt.title('Ridge coefficients as a function of the regularization')\n",
        "plt.axis('tight')\n",
        "plt.show()"
      ],
      "execution_count": 50,
      "outputs": [
        {
          "output_type": "display_data",
          "data": {
            "image/png": "[encoded data removed]",
            "text/plain": [
              "<Figure size 432x288 with 1 Axes>"
            ]
          },
          "metadata": {
            "tags": [],
            "needs_background": "light"
          }
        }
      ]
    },
    {
      "cell_type": "markdown",
      "metadata": {
        "id": "9wCVjMsaMz-3"
      },
      "source": [
        "As we can see for lower values of alpha we have an improve in the pearson coefficient. We can note that both the training and the test set are almost good in predictions because the value of coefficient or  𝑟2  is over 90% and we can see that the score for test set is better than training. probably it depends on the way of splitting the dataset, we could change make some change or use the Cross-validation to prevent this but generally speaking our score is good s we can't speak of problem of bias. It would be different if it was something like 70%"
      ]
    },
    {
      "cell_type": "markdown",
      "metadata": {
        "id": "c8sn9traM1a_"
      },
      "source": [
        "Exercise 2\n",
        "-----"
      ]
    },
    {
      "cell_type": "markdown",
      "metadata": {
        "id": "mwMrE1twM8aF"
      },
      "source": [
        "1) There should be a specific database for users in which we have an indication about the timestamp ,mobile_os and app_versions for the users in a same way like for the Anomimous users so that we can extract information about the topic ( analize how quickly users update their mobile)."
      ]
    },
    {
      "cell_type": "markdown",
      "metadata": {
        "id": "RcblK0eGNYYG"
      },
      "source": [
        "2) We need to consider in separate way users and anonymous visitors because not every visitor is registered and we want to make a separate analysis for the Users.\n",
        "\n",
        "It's better to have different unique id for this 2 categories.\n",
        "\n",
        "A same person can be anonimous and becoming a registered users after certain period."
      ]
    },
    {
      "cell_type": "markdown",
      "metadata": {
        "id": "_qs6px_HNhZb"
      },
      "source": [
        "3) I'm supposing to add the column \"app_version\" from the table bookings. In this way we have a count for the number of bookings for every kind of versions.\n",
        "\n",
        "SELECT app_version, COUNT(*) as quantity FROM bookings GROUP BY app_version\n",
        "\n",
        "We could add the WHERE clause specifying the old versions that we want."
      ]
    },
    {
      "cell_type": "markdown",
      "metadata": {
        "id": "upo0PyI6Nnni"
      },
      "source": [
        "4) The number of bookings is one of the best metric to choose for having a measure of the adoption but we should consider the ratio of conversions from the number of all the visitors (included the anonymous visitors) to have a better idea of the success of a certain app."
      ]
    },
    {
      "cell_type": "markdown",
      "metadata": {
        "id": "30ToXwnqNqnA"
      },
      "source": [
        "5) We should collect information about the number of visitors during time ( i'm using timestamp as indicator of time) and collecting the number of bookings to calculate the trend for the conversion rate.\n",
        "\n",
        "The first query should be something like: WITH visits_time SELECT timestamp count(*) as n_visits FROM Visitors GROUP BY timestamp ORDER BY Timestamp\n",
        "\n",
        "The second query should be: WITH bookings_time SELECT timestamp count(*) as n_bookings FROM Bookings GROUP BY timestamp ORDER BY Timestamp\n",
        "\n",
        "After that i can convert this 2 query in dataframes and make a join and using a lineplot with timestamp in the x-axis and the ratio between n_visits and n_bookings in the y_axis\n"
      ]
    },
    {
      "cell_type": "markdown",
      "metadata": {
        "id": "4deI0vEXNzzi"
      },
      "source": [
        "6) In this case i should use some tool to manage better the big data like Spark or using data partitioning. We can create a partitioned table based on the values of a specific column. We can creating additioning filegroup, than creating a partition function and a partition scheme."
      ]
    },
    {
      "cell_type": "markdown",
      "metadata": {
        "id": "aedQ68ppNHhP"
      },
      "source": [
        "Exercise 3\n",
        "---"
      ]
    },
    {
      "cell_type": "markdown",
      "metadata": {
        "id": "zSuZeAkENLaX"
      },
      "source": [
        "1) \n",
        "We have to consider the localization both of the country for the restaurant and for the visitors of the site and in the same time the general traffic for the restaurant. We have to take care of the number of views and the time that they spend reading the page from english speakers in this case. We have as well to consider the engagement in terms for example of like or registration to the site. Another aspect is how likely a customer is to recommend your product to other people.\n",
        "We could use the A/B test before to launch it. "
      ]
    },
    {
      "cell_type": "markdown",
      "metadata": {
        "id": "Hm7WMlR8NNA_"
      },
      "source": [
        "2)\n",
        "It could depends on many factors. We could have different kind of users of the product with different needs. We also have to consider the different nuances in the local cultures as well. For example people from scandinavian countries has a best knowledge of english language respect to other nationalities and they couldn't feel the need of a translation. \n",
        "To have a success sometimes you could need to change some details on the way to promote the service or the design or the way of payment for example could change for every potential audiance based on the localization."
      ]
    },
    {
      "cell_type": "markdown",
      "metadata": {
        "id": "YblHFwoNNSPq"
      },
      "source": [
        "3)\n",
        "We could use the ROI (return of investment) to evaluate how efficiency or the profitability of this action. We could calcolate the percentage of conversions. If you use email campaigns you could use the click through rate.\n",
        "I will expect different results for this 3 cases but everyone could be useful for a specific goal.\n",
        "a)If we use the most performing pages we will expect to have a good result because we will have more chance to obtain views but in the same time the cost should be higher.\n",
        "b)In this case we should optimize better in terms of conversions because we suppose that the audience should be more likely interested to this product.\n",
        "c) You could have a less conversion rate with the randomly selected sample but it could be a big value if you get insight from this sample to reach some other kind of audience that you didn't expected before. \n",
        "d)We could have better performances in the second case  respect to the third case because the audience should got more benefit for this kind of activity.In the first case i expect to have a lot of visualizations but in the same time if the target is not centered we are not sure that everyone will have benefit from this kind of activity."
      ]
    },
    {
      "cell_type": "markdown",
      "metadata": {
        "id": "meW4Afz2NVjJ"
      },
      "source": [
        "4) \n",
        "I'd consider the frequency of \"language\" and \"country\" columns to have an idea of the languages that are likely to be most in demand. We could try to use A/B test localized as well to have a feedback."
      ]
    },
    {
      "cell_type": "code",
      "metadata": {
        "id": "VEzzOqvJMxtR"
      },
      "source": [
        ""
      ],
      "execution_count": null,
      "outputs": []
    }
  ]
}